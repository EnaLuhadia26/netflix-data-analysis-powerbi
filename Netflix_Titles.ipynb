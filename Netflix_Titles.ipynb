{
  "nbformat": 4,
  "nbformat_minor": 0,
  "metadata": {
    "colab": {
      "provenance": []
    },
    "kernelspec": {
      "name": "python3",
      "display_name": "Python 3"
    },
    "language_info": {
      "name": "python"
    }
  },
  "cells": [
    {
      "cell_type": "code",
      "execution_count": 1,
      "metadata": {
        "id": "zni8kPz4jGGc"
      },
      "outputs": [],
      "source": [
        "# Step 1: Import libraries\n",
        "import pandas as pd\n",
        "import numpy as np\n",
        "import re\n"
      ]
    },
    {
      "cell_type": "code",
      "source": [
        "# Step 2: Load the dataset\n",
        "netflix = pd.read_csv('netflix_titles.csv')"
      ],
      "metadata": {
        "id": "NjqFT7_qjZ2q"
      },
      "execution_count": 2,
      "outputs": []
    },
    {
      "cell_type": "code",
      "source": [
        "# Step 3: Handle missing values\n",
        "# Fill missing director, cast, and country with 'Unknown'\n",
        "netflix['director'] = netflix['director'].fillna('Unknown')\n",
        "netflix['cast'] = netflix['cast'].fillna('Unknown')\n",
        "netflix['country'] = netflix['country'].fillna('Unknown')\n",
        "netflix['date_added'] = netflix['date_added'].fillna('01-Jan-1900')  # placeholder for missing dates"
      ],
      "metadata": {
        "id": "3En2gBTFjdXA"
      },
      "execution_count": 3,
      "outputs": []
    },
    {
      "cell_type": "code",
      "source": [
        "# Step 4: Convert 'date_added' to datetime\n",
        "netflix['date_added'] = pd.to_datetime(netflix['date_added'], format='%B %d, %Y', errors='coerce')\n"
      ],
      "metadata": {
        "id": "uNsjvz3yjjNj"
      },
      "execution_count": 4,
      "outputs": []
    },
    {
      "cell_type": "code",
      "source": [
        "# Step 5: Extract year and month for analysis\n",
        "netflix['year_added'] = netflix['date_added'].dt.year\n",
        "netflix['month_added'] = netflix['date_added'].dt.month_name()"
      ],
      "metadata": {
        "id": "a-eaTSqZjmPi"
      },
      "execution_count": 5,
      "outputs": []
    },
    {
      "cell_type": "code",
      "source": [
        "# Step 6: Clean 'duration' column\n",
        "# Create a new column for movie duration in minutes\n",
        "def extract_duration(x):\n",
        "    if pd.isnull(x):\n",
        "        return np.nan\n",
        "    elif 'min' in x:\n",
        "        return int(re.findall(r'\\d+', x)[0])\n",
        "    else:\n",
        "        return np.nan  # For TV shows, you can handle seasons separately if needed\n",
        "\n",
        "netflix['duration_minutes'] = netflix['duration'].apply(extract_duration)\n"
      ],
      "metadata": {
        "id": "uG-WGdzTjowR"
      },
      "execution_count": 6,
      "outputs": []
    },
    {
      "cell_type": "code",
      "source": [
        "# Step 7: Remove duplicates\n",
        "netflix.drop_duplicates(subset=['title','type'], inplace=True)"
      ],
      "metadata": {
        "id": "gnE4097Gjrbq"
      },
      "execution_count": 7,
      "outputs": []
    },
    {
      "cell_type": "code",
      "source": [
        "# Step 8: Optional – reset index\n",
        "netflix.reset_index(drop=True, inplace=True)"
      ],
      "metadata": {
        "id": "_SRblsrrjusX"
      },
      "execution_count": 8,
      "outputs": []
    },
    {
      "cell_type": "code",
      "source": [
        "# Step 9: Check cleaned data\n",
        "print(netflix.head())"
      ],
      "metadata": {
        "colab": {
          "base_uri": "https://localhost:8080/"
        },
        "id": "ATyfMU6GjynY",
        "outputId": "994383ed-c0ea-4cff-9708-71bd8c5369bf"
      },
      "execution_count": 9,
      "outputs": [
        {
          "output_type": "stream",
          "name": "stdout",
          "text": [
            "  show_id     type                  title         director  \\\n",
            "0      s1    Movie   Dick Johnson Is Dead  Kirsten Johnson   \n",
            "1      s2  TV Show          Blood & Water          Unknown   \n",
            "2      s3  TV Show              Ganglands  Julien Leclercq   \n",
            "3      s4  TV Show  Jailbirds New Orleans          Unknown   \n",
            "4      s5  TV Show           Kota Factory          Unknown   \n",
            "\n",
            "                                                cast        country  \\\n",
            "0                                            Unknown  United States   \n",
            "1  Ama Qamata, Khosi Ngema, Gail Mabalane, Thaban...   South Africa   \n",
            "2  Sami Bouajila, Tracy Gotoas, Samuel Jouy, Nabi...        Unknown   \n",
            "3                                            Unknown        Unknown   \n",
            "4  Mayur More, Jitendra Kumar, Ranjan Raj, Alam K...          India   \n",
            "\n",
            "  date_added  release_year rating   duration  \\\n",
            "0 2021-09-25          2020  PG-13     90 min   \n",
            "1 2021-09-24          2021  TV-MA  2 Seasons   \n",
            "2 2021-09-24          2021  TV-MA   1 Season   \n",
            "3 2021-09-24          2021  TV-MA   1 Season   \n",
            "4 2021-09-24          2021  TV-MA  2 Seasons   \n",
            "\n",
            "                                           listed_in  \\\n",
            "0                                      Documentaries   \n",
            "1    International TV Shows, TV Dramas, TV Mysteries   \n",
            "2  Crime TV Shows, International TV Shows, TV Act...   \n",
            "3                             Docuseries, Reality TV   \n",
            "4  International TV Shows, Romantic TV Shows, TV ...   \n",
            "\n",
            "                                         description  year_added month_added  \\\n",
            "0  As her father nears the end of his life, filmm...      2021.0   September   \n",
            "1  After crossing paths at a party, a Cape Town t...      2021.0   September   \n",
            "2  To protect his family from a powerful drug lor...      2021.0   September   \n",
            "3  Feuds, flirtations and toilet talk go down amo...      2021.0   September   \n",
            "4  In a city of coaching centers known to train I...      2021.0   September   \n",
            "\n",
            "   duration_minutes  \n",
            "0              90.0  \n",
            "1               NaN  \n",
            "2               NaN  \n",
            "3               NaN  \n",
            "4               NaN  \n"
          ]
        }
      ]
    },
    {
      "cell_type": "code",
      "source": [
        "netflix.to_csv('netflix_cleaned.csv', index=False)\n"
      ],
      "metadata": {
        "id": "OEu2J4Asj0vL"
      },
      "execution_count": 10,
      "outputs": []
    },
    {
      "cell_type": "code",
      "source": [],
      "metadata": {
        "id": "4RyrhjBzkSUd"
      },
      "execution_count": null,
      "outputs": []
    }
  ]
}